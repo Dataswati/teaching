{
 "cells": [
  {
   "cell_type": "code",
   "execution_count": null,
   "metadata": {},
   "outputs": [],
   "source": [
    "import numpy as np\n",
    "\n",
    "import random\n",
    "\n",
    "import matplotlib.pyplot as plt\n",
    "\n",
    "from sklearn.model_selection import train_test_split\n",
    "from sklearn.svm import LinearSVC\n",
    "from sklearn.svm import SVC\n"
   ]
  },
  {
   "cell_type": "markdown",
   "metadata": {},
   "source": [
    "# Dataset"
   ]
  },
  {
   "cell_type": "code",
   "execution_count": null,
   "metadata": {},
   "outputs": [],
   "source": [
    "random.seed(331)\n",
    "\n",
    "mean_0 = [0, 0]\n",
    "cov_0 = [[1, 0], [0, 100]]\n",
    "nb_0 = 200\n",
    "x_0, y_0 = np.random.multivariate_normal(mean_0, cov_0, nb_0).T\n",
    "\n",
    "mean_1 = [4, 3]\n",
    "cov_1 = [[4, 12], [12, 50]]\n",
    "nb_1 = 100\n",
    "x_1, y_1 = np.random.multivariate_normal(mean_1, cov_1, nb_1).T\n"
   ]
  },
  {
   "cell_type": "code",
   "execution_count": null,
   "metadata": {},
   "outputs": [],
   "source": [
    "x_2 = list(x_0) + list(x_1)\n",
    "y_2 = list(y_0) + list(y_1)\n",
    "#z_2 = [random.uniform(0, 100) for v in range(nb_0+nb_1)]\n",
    "\n",
    "X = np.transpose(np.array([x_2, y_2]))\n",
    "#X = np.transpose(np.array([x_2, y_2, z_2]))\n",
    "y = np.array([True for i in range(nb_0)] + [False for i in range(nb_1)])\n"
   ]
  },
  {
   "cell_type": "code",
   "execution_count": null,
   "metadata": {},
   "outputs": [],
   "source": [
    "X.shape, y.shape"
   ]
  },
  {
   "cell_type": "code",
   "execution_count": null,
   "metadata": {},
   "outputs": [],
   "source": [
    "plt.figure()\n",
    "plt.title('set 0')\n",
    "plt.plot(X[y==1][:,0], X[y==1][:,1], 'x', label='set 1')\n",
    "plt.plot(X[y==0][:,0], X[y==0][:,1], 'x', label='set 0')\n",
    "plt.legend()\n",
    "plt.show()\n"
   ]
  },
  {
   "cell_type": "code",
   "execution_count": null,
   "metadata": {},
   "outputs": [],
   "source": [
    "X_train, X_test, y_train, y_test = train_test_split(X, y, test_size=0.33)\n",
    "X_train.shape, X_test.shape, y_train.shape, y_test.shape\n"
   ]
  },
  {
   "cell_type": "markdown",
   "metadata": {},
   "source": [
    "# Linear svc"
   ]
  },
  {
   "cell_type": "code",
   "execution_count": null,
   "metadata": {},
   "outputs": [],
   "source": [
    "clf = "
   ]
  },
  {
   "cell_type": "code",
   "execution_count": null,
   "metadata": {},
   "outputs": [],
   "source": [
    "x_min = np.min(X[:,0]) - 0.5\n",
    "x_max = np.max(X[:,0]) + 0.5\n",
    "\n",
    "y_min = np.min(X[:,1]) - 5\n",
    "y_max = np.max(X[:,1]) + 5\n",
    "\n",
    "h = 0.1\n",
    "\n",
    "x_ok, y_ok = np.meshgrid(np.arange(x_min, x_max, h),\n",
    "                         np.arange(y_min, y_max, h))\n"
   ]
  },
  {
   "cell_type": "code",
   "execution_count": null,
   "metadata": {},
   "outputs": [],
   "source": [
    "y_pred = clf.predict(np.transpose(np.array([x_ok.ravel(), y_ok.ravel()])))\n",
    "#y_pred = model.predict(np.transpose(np.array([xx.ravel(), yy.ravel(), zz.ravel()])))\n"
   ]
  },
  {
   "cell_type": "code",
   "execution_count": null,
   "metadata": {},
   "outputs": [],
   "source": [
    "plt.figure()\n",
    "plt.title('set 0')\n",
    "plt.contourf(x_ok, y_ok, y_pred.reshape(x_ok.shape), cmap='RdYlBu', alpha=0.5)\n",
    "plt.plot(X[y==1][:,0], X[y==1][:,1], 'x', label='set 1')\n",
    "plt.plot(X[y==0][:,0], X[y==0][:,1], 'x', label='set 0')\n",
    "plt.legend()\n",
    "plt.show()\n"
   ]
  },
  {
   "cell_type": "markdown",
   "metadata": {},
   "source": [
    "# SVC"
   ]
  },
  {
   "cell_type": "code",
   "execution_count": null,
   "metadata": {},
   "outputs": [],
   "source": []
  },
  {
   "cell_type": "code",
   "execution_count": null,
   "metadata": {},
   "outputs": [],
   "source": []
  },
  {
   "cell_type": "code",
   "execution_count": null,
   "metadata": {},
   "outputs": [],
   "source": []
  }
 ],
 "metadata": {
  "kernelspec": {
   "display_name": "Python 3",
   "language": "python",
   "name": "python3"
  },
  "language_info": {
   "codemirror_mode": {
    "name": "ipython",
    "version": 3
   },
   "file_extension": ".py",
   "mimetype": "text/x-python",
   "name": "python",
   "nbconvert_exporter": "python",
   "pygments_lexer": "ipython3",
   "version": "3.5.2"
  }
 },
 "nbformat": 4,
 "nbformat_minor": 2
}
