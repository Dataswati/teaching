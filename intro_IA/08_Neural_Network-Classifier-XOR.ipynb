{
 "cells": [
  {
   "cell_type": "code",
   "execution_count": 7,
   "metadata": {},
   "outputs": [],
   "source": [
    "import numpy as np\n",
    "\n",
    "import random\n",
    "\n",
    "from sklearn.model_selection import train_test_split\n",
    "\n",
    "from keras.models import Sequential\n",
    "from keras.layers.core import Dense, Dropout, Activation\n",
    "from keras.optimizers import SGD\n",
    "\n",
    "import matplotlib\n",
    "import matplotlib.pyplot as plt\n",
    "matplotlib.rcParams['figure.figsize'] = (10.0, 7.0)\n",
    "\n"
   ]
  },
  {
   "cell_type": "markdown",
   "metadata": {},
   "source": [
    "# Classifier"
   ]
  },
  {
   "cell_type": "markdown",
   "metadata": {},
   "source": [
    "## Dataset"
   ]
  },
  {
   "cell_type": "code",
   "execution_count": 8,
   "metadata": {},
   "outputs": [],
   "source": [
    "random.seed(331)\n",
    "\n",
    "sigma = 0.06\n",
    "cov = [[sigma, 0], [0, sigma]]\n",
    "nb = 50\n",
    "\n",
    "mean_0 = [0, 0]\n",
    "x_0, y_0 = np.random.multivariate_normal(mean_0, cov, nb).T\n",
    "\n",
    "mean_1 = [0, 1]\n",
    "x_1, y_1 = np.random.multivariate_normal(mean_1, cov, nb).T\n",
    "\n",
    "mean_2 = [1, 1]\n",
    "x_2, y_2 = np.random.multivariate_normal(mean_2, cov, nb).T\n",
    "\n",
    "\n",
    "mean_3 = [1, 0]\n",
    "x_3, y_3 = np.random.multivariate_normal(mean_3, cov, nb).T\n",
    "\n"
   ]
  },
  {
   "cell_type": "code",
   "execution_count": 9,
   "metadata": {},
   "outputs": [],
   "source": [
    "x_temp = list(x_0) + list(x_1) + list(x_2) + list(x_3)\n",
    "y_temp = list(y_0) + list(y_1) + list(y_2) + list(y_3)\n",
    "\n",
    "X = np.transpose(np.array([x_temp, y_temp]))\n",
    "y = np.array([True for i in range(nb)] + [False for i in range(nb)] + [True for i in range(nb)] + [False for i in range(nb)])\n",
    "Y = np.transpose(np.array([y, ~y]))\n"
   ]
  },
  {
   "cell_type": "code",
   "execution_count": 10,
   "metadata": {},
   "outputs": [
    {
     "data": {
      "text/plain": [
       "((200, 2), (200, 2))"
      ]
     },
     "execution_count": 10,
     "metadata": {},
     "output_type": "execute_result"
    }
   ],
   "source": [
    "X.shape, Y.shape"
   ]
  },
  {
   "cell_type": "code",
   "execution_count": 11,
   "metadata": {},
   "outputs": [
    {
     "data": {
      "text/plain": [
       "((134, 2), (66, 2), (134, 2), (66, 2))"
      ]
     },
     "execution_count": 11,
     "metadata": {},
     "output_type": "execute_result"
    }
   ],
   "source": [
    "X_train, X_test, Y_train, Y_test = train_test_split(X, Y, test_size=0.33)\n",
    "X_train.shape, X_test.shape, Y_train.shape, Y_test.shape\n"
   ]
  },
  {
   "cell_type": "code",
   "execution_count": 12,
   "metadata": {},
   "outputs": [
    {
     "data": {
      "image/png": "[encoded data removed]",
      "text/plain": [
       "<Figure size 720x504 with 1 Axes>"
      ]
     },
     "metadata": {
      "needs_background": "light"
     },
     "output_type": "display_data"
    }
   ],
   "source": [
    "plt.figure()\n",
    "plt.title('set 0')\n",
    "plt.plot(X[Y[:,0]][:,0], X[Y[:,0]][:,1], 'x', label='set 0')\n",
    "plt.plot(X[Y[:,1]][:,0], X[Y[:,1]][:,1], 'x', label='set 1')\n",
    "plt.legend()\n",
    "plt.show()\n"
   ]
  },
  {
   "cell_type": "markdown",
   "metadata": {},
   "source": [
    "## Model definition"
   ]
  },
  {
   "cell_type": "code",
   "execution_count": 20,
   "metadata": {},
   "outputs": [],
   "source": [
    "model = Sequential()\n",
    "model.add(Dense(16, input_dim=2, activation='relu'))\n",
    "model.add(Dense(8, input_dim=2, activation='relu'))\n",
    "model.add(Dense(2, activation='sigmoid'))\n",
    "\n",
    "model.compile(optimizer='rmsprop',\n",
    "              loss='binary_crossentropy',\n",
    "              metrics=['accuracy'])"
   ]
  },
  {
   "cell_type": "markdown",
   "metadata": {},
   "source": [
    "## Model fit"
   ]
  },
  {
   "cell_type": "code",
   "execution_count": 21,
   "metadata": {
    "scrolled": true
   },
   "outputs": [
    {
     "name": "stdout",
     "output_type": "stream",
     "text": [
      "Epoch 1/100\n",
      "134/134 [==============================] - 1s 6ms/step - loss: 0.7017 - acc: 0.5672\n",
      "Epoch 2/100\n",
      "134/134 [==============================] - 0s 2ms/step - loss: 0.6817 - acc: 0.6642\n",
      "Epoch 3/100\n",
      "134/134 [==============================] - 0s 2ms/step - loss: 0.6600 - acc: 0.7164\n",
      "Epoch 4/100\n",
      "134/134 [==============================] - 0s 2ms/step - loss: 0.6336 - acc: 0.7351\n",
      "Epoch 5/100\n",
      "134/134 [==============================] - 0s 2ms/step - loss: 0.5932 - acc: 0.7724\n",
      "Epoch 6/100\n",
      "134/134 [==============================] - 0s 3ms/step - loss: 0.5504 - acc: 0.8246\n",
      "Epoch 7/100\n",
      "134/134 [==============================] - 0s 3ms/step - loss: 0.5044 - acc: 0.8731\n",
      "Epoch 8/100\n",
      "134/134 [==============================] - 1s 8ms/step - loss: 0.4540 - acc: 0.9067A: 2s - loss: 0.4\n",
      "Epoch 9/100\n",
      "134/134 [==============================] - 1s 4ms/step - loss: 0.4018 - acc: 0.9179\n",
      "Epoch 10/100\n",
      "134/134 [==============================] - 0s 3ms/step - loss: 0.3553 - acc: 0.8993\n",
      "Epoch 11/100\n",
      "134/134 [==============================] - 0s 3ms/step - loss: 0.3110 - acc: 0.9478\n",
      "Epoch 12/100\n",
      "134/134 [==============================] - 1s 5ms/step - loss: 0.2734 - acc: 0.9440\n",
      "Epoch 13/100\n",
      "134/134 [==============================] - 2s 14ms/step - loss: 0.2390 - acc: 0.9552\n",
      "Epoch 14/100\n",
      "134/134 [==============================] - 1s 9ms/step - loss: 0.2124 - acc: 0.9515\n",
      "Epoch 15/100\n",
      "134/134 [==============================] - 1s 4ms/step - loss: 0.1897 - acc: 0.9590\n",
      "Epoch 16/100\n",
      "134/134 [==============================] - 1s 4ms/step - loss: 0.1692 - acc: 0.9590\n",
      "Epoch 17/100\n",
      "134/134 [==============================] - 0s 3ms/step - loss: 0.1570 - acc: 0.9627\n",
      "Epoch 18/100\n",
      "134/134 [==============================] - 0s 3ms/step - loss: 0.1415 - acc: 0.9664\n",
      "Epoch 19/100\n",
      "134/134 [==============================] - 0s 3ms/step - loss: 0.1346 - acc: 0.9627\n",
      "Epoch 20/100\n",
      "134/134 [==============================] - 0s 2ms/step - loss: 0.1241 - acc: 0.9627\n",
      "Epoch 21/100\n",
      "134/134 [==============================] - 0s 2ms/step - loss: 0.1189 - acc: 0.9590\n",
      "Epoch 22/100\n",
      "134/134 [==============================] - 0s 2ms/step - loss: 0.1156 - acc: 0.9776\n",
      "Epoch 23/100\n",
      "134/134 [==============================] - 0s 2ms/step - loss: 0.1099 - acc: 0.9664\n",
      "Epoch 24/100\n",
      "134/134 [==============================] - 1s 4ms/step - loss: 0.1059 - acc: 0.9664\n",
      "Epoch 25/100\n",
      "134/134 [==============================] - 1s 4ms/step - loss: 0.1017 - acc: 0.9590\n",
      "Epoch 26/100\n",
      "134/134 [==============================] - 0s 3ms/step - loss: 0.1011 - acc: 0.9739\n",
      "Epoch 27/100\n",
      "134/134 [==============================] - 0s 3ms/step - loss: 0.0944 - acc: 0.9627\n",
      "Epoch 28/100\n",
      "134/134 [==============================] - 1s 5ms/step - loss: 0.0958 - acc: 0.9739\n",
      "Epoch 29/100\n",
      "134/134 [==============================] - 0s 2ms/step - loss: 0.0909 - acc: 0.9627\n",
      "Epoch 30/100\n",
      "134/134 [==============================] - 0s 3ms/step - loss: 0.0928 - acc: 0.9627A: 0s - loss: 0.0788 - acc: 0.9\n",
      "Epoch 31/100\n",
      "134/134 [==============================] - 0s 3ms/step - loss: 0.0939 - acc: 0.9701\n",
      "Epoch 32/100\n",
      "134/134 [==============================] - 0s 3ms/step - loss: 0.0915 - acc: 0.9627\n",
      "Epoch 33/100\n",
      "134/134 [==============================] - 0s 3ms/step - loss: 0.0850 - acc: 0.9701\n",
      "Epoch 34/100\n",
      "134/134 [==============================] - 0s 3ms/step - loss: 0.0825 - acc: 0.9701\n",
      "Epoch 35/100\n",
      "134/134 [==============================] - 0s 3ms/step - loss: 0.0904 - acc: 0.9664\n",
      "Epoch 36/100\n",
      "134/134 [==============================] - 0s 2ms/step - loss: 0.0865 - acc: 0.9701\n",
      "Epoch 37/100\n",
      "134/134 [==============================] - 0s 2ms/step - loss: 0.0824 - acc: 0.9664\n",
      "Epoch 38/100\n",
      "134/134 [==============================] - 0s 2ms/step - loss: 0.0877 - acc: 0.9739\n",
      "Epoch 39/100\n",
      "134/134 [==============================] - 0s 2ms/step - loss: 0.0854 - acc: 0.9627\n",
      "Epoch 40/100\n",
      "134/134 [==============================] - 0s 3ms/step - loss: 0.0822 - acc: 0.9664\n",
      "Epoch 41/100\n",
      "134/134 [==============================] - 0s 2ms/step - loss: 0.0851 - acc: 0.9739\n",
      "Epoch 42/100\n",
      "134/134 [==============================] - 0s 2ms/step - loss: 0.0824 - acc: 0.9627\n",
      "Epoch 43/100\n",
      "134/134 [==============================] - 0s 3ms/step - loss: 0.0819 - acc: 0.9664\n",
      "Epoch 44/100\n",
      "134/134 [==============================] - 0s 3ms/step - loss: 0.0800 - acc: 0.9627\n",
      "Epoch 45/100\n",
      "134/134 [==============================] - 0s 3ms/step - loss: 0.0797 - acc: 0.9627\n",
      "Epoch 46/100\n",
      "134/134 [==============================] - 0s 3ms/step - loss: 0.0816 - acc: 0.9627\n",
      "Epoch 47/100\n",
      "134/134 [==============================] - 0s 3ms/step - loss: 0.0790 - acc: 0.9627\n",
      "Epoch 48/100\n",
      "134/134 [==============================] - 0s 2ms/step - loss: 0.0771 - acc: 0.9627\n",
      "Epoch 49/100\n",
      "134/134 [==============================] - 1s 4ms/step - loss: 0.0814 - acc: 0.9664\n",
      "Epoch 50/100\n",
      "134/134 [==============================] - 0s 2ms/step - loss: 0.0768 - acc: 0.9627\n",
      "Epoch 51/100\n",
      "134/134 [==============================] - 0s 2ms/step - loss: 0.0817 - acc: 0.9627\n",
      "Epoch 52/100\n",
      "134/134 [==============================] - 0s 2ms/step - loss: 0.0796 - acc: 0.9627\n",
      "Epoch 53/100\n",
      "134/134 [==============================] - 0s 2ms/step - loss: 0.0817 - acc: 0.9664\n",
      "Epoch 54/100\n",
      "134/134 [==============================] - 0s 2ms/step - loss: 0.0808 - acc: 0.9627\n",
      "Epoch 55/100\n",
      "134/134 [==============================] - 0s 3ms/step - loss: 0.0784 - acc: 0.9701\n",
      "Epoch 56/100\n",
      "134/134 [==============================] - 0s 2ms/step - loss: 0.0797 - acc: 0.9701\n",
      "Epoch 57/100\n",
      "134/134 [==============================] - 0s 2ms/step - loss: 0.0796 - acc: 0.9627\n",
      "Epoch 58/100\n",
      "134/134 [==============================] - 0s 2ms/step - loss: 0.0797 - acc: 0.9664\n",
      "Epoch 59/100\n",
      "134/134 [==============================] - 0s 2ms/step - loss: 0.0770 - acc: 0.9627\n",
      "Epoch 60/100\n",
      "134/134 [==============================] - 0s 2ms/step - loss: 0.0756 - acc: 0.9701\n",
      "Epoch 61/100\n",
      "134/134 [==============================] - 0s 2ms/step - loss: 0.0771 - acc: 0.9701 ETA: 0s - loss: 0.1069 - acc: 0.\n",
      "Epoch 62/100\n",
      "134/134 [==============================] - 0s 2ms/step - loss: 0.0773 - acc: 0.9627\n",
      "Epoch 63/100\n",
      "134/134 [==============================] - 0s 2ms/step - loss: 0.0767 - acc: 0.9627\n",
      "Epoch 64/100\n",
      "134/134 [==============================] - 0s 2ms/step - loss: 0.0768 - acc: 0.9627\n",
      "Epoch 65/100\n",
      "134/134 [==============================] - 0s 3ms/step - loss: 0.0803 - acc: 0.9664\n",
      "Epoch 66/100\n",
      "134/134 [==============================] - 0s 2ms/step - loss: 0.0785 - acc: 0.9664\n",
      "Epoch 67/100\n",
      "134/134 [==============================] - 0s 2ms/step - loss: 0.0832 - acc: 0.9627\n",
      "Epoch 68/100\n",
      "134/134 [==============================] - 0s 2ms/step - loss: 0.0776 - acc: 0.9739\n",
      "Epoch 69/100\n",
      "134/134 [==============================] - 0s 2ms/step - loss: 0.0804 - acc: 0.9627\n",
      "Epoch 70/100\n",
      "134/134 [==============================] - 0s 2ms/step - loss: 0.0785 - acc: 0.9701\n",
      "Epoch 71/100\n",
      "134/134 [==============================] - 0s 2ms/step - loss: 0.0737 - acc: 0.9664\n",
      "Epoch 72/100\n",
      "134/134 [==============================] - 0s 2ms/step - loss: 0.0834 - acc: 0.9627\n",
      "Epoch 73/100\n",
      "134/134 [==============================] - 0s 2ms/step - loss: 0.0775 - acc: 0.9701\n",
      "Epoch 74/100\n",
      "134/134 [==============================] - 0s 2ms/step - loss: 0.0705 - acc: 0.9627\n",
      "Epoch 75/100\n",
      "134/134 [==============================] - 0s 2ms/step - loss: 0.0813 - acc: 0.9664\n",
      "Epoch 76/100\n",
      "134/134 [==============================] - 0s 2ms/step - loss: 0.0770 - acc: 0.9664\n",
      "Epoch 77/100\n",
      "134/134 [==============================] - 0s 2ms/step - loss: 0.0777 - acc: 0.9627\n",
      "Epoch 78/100\n",
      "134/134 [==============================] - 0s 2ms/step - loss: 0.0745 - acc: 0.9701\n",
      "Epoch 79/100\n",
      "134/134 [==============================] - 0s 2ms/step - loss: 0.0786 - acc: 0.9627\n",
      "Epoch 80/100\n",
      "134/134 [==============================] - 0s 3ms/step - loss: 0.0734 - acc: 0.9664\n",
      "Epoch 81/100\n",
      "134/134 [==============================] - 0s 2ms/step - loss: 0.0747 - acc: 0.9664\n",
      "Epoch 82/100\n",
      "134/134 [==============================] - 1s 4ms/step - loss: 0.0812 - acc: 0.9664\n",
      "Epoch 83/100\n",
      "134/134 [==============================] - 0s 3ms/step - loss: 0.0761 - acc: 0.9701\n",
      "Epoch 84/100\n"
     ]
    },
    {
     "name": "stdout",
     "output_type": "stream",
     "text": [
      "134/134 [==============================] - 0s 3ms/step - loss: 0.0805 - acc: 0.9627\n",
      "Epoch 85/100\n",
      "134/134 [==============================] - 0s 3ms/step - loss: 0.0756 - acc: 0.9664\n",
      "Epoch 86/100\n",
      "134/134 [==============================] - 0s 2ms/step - loss: 0.0766 - acc: 0.9701\n",
      "Epoch 87/100\n",
      "134/134 [==============================] - 0s 2ms/step - loss: 0.0737 - acc: 0.9627\n",
      "Epoch 88/100\n",
      "134/134 [==============================] - 0s 2ms/step - loss: 0.0799 - acc: 0.9701\n",
      "Epoch 89/100\n",
      "134/134 [==============================] - 0s 2ms/step - loss: 0.0746 - acc: 0.9627\n",
      "Epoch 90/100\n",
      "134/134 [==============================] - 0s 2ms/step - loss: 0.0782 - acc: 0.9627\n",
      "Epoch 91/100\n",
      "134/134 [==============================] - 0s 2ms/step - loss: 0.0802 - acc: 0.9664\n",
      "Epoch 92/100\n",
      "134/134 [==============================] - 0s 2ms/step - loss: 0.0735 - acc: 0.9664\n",
      "Epoch 93/100\n",
      "134/134 [==============================] - 0s 2ms/step - loss: 0.0722 - acc: 0.9701\n",
      "Epoch 94/100\n",
      "134/134 [==============================] - 0s 2ms/step - loss: 0.0746 - acc: 0.9627\n",
      "Epoch 95/100\n",
      "134/134 [==============================] - 0s 2ms/step - loss: 0.0729 - acc: 0.9701\n",
      "Epoch 96/100\n",
      "134/134 [==============================] - 0s 2ms/step - loss: 0.0734 - acc: 0.9701\n",
      "Epoch 97/100\n",
      "134/134 [==============================] - 0s 2ms/step - loss: 0.0809 - acc: 0.9627\n",
      "Epoch 98/100\n",
      "134/134 [==============================] - 0s 2ms/step - loss: 0.0753 - acc: 0.9701\n",
      "Epoch 99/100\n",
      "134/134 [==============================] - 0s 2ms/step - loss: 0.0781 - acc: 0.9627\n",
      "Epoch 100/100\n",
      "134/134 [==============================] - 0s 2ms/step - loss: 0.0809 - acc: 0.9701\n"
     ]
    },
    {
     "data": {
      "text/plain": [
       "<keras.callbacks.History at 0x7f9b080a6cc0>"
      ]
     },
     "execution_count": 21,
     "metadata": {},
     "output_type": "execute_result"
    }
   ],
   "source": [
    "model.fit(X_train, Y_train, batch_size=1, epochs=100)\n"
   ]
  },
  {
   "cell_type": "code",
   "execution_count": 22,
   "metadata": {},
   "outputs": [
    {
     "name": "stdout",
     "output_type": "stream",
     "text": [
      "134/134 [==============================] - 0s 867us/step\n",
      "Train:  [0.0660994688966381, 0.9626865662745575]\n",
      "66/66 [==============================] - 0s 395us/step\n",
      "Test:  [0.13789093527267335, 0.9393939393939394]\n"
     ]
    }
   ],
   "source": [
    "print('Train: ', model.evaluate(X_train, Y_train))\n",
    "print('Test: ', model.evaluate(X_test, Y_test))\n"
   ]
  },
  {
   "cell_type": "markdown",
   "metadata": {},
   "source": [
    "## Predictions"
   ]
  },
  {
   "cell_type": "code",
   "execution_count": 23,
   "metadata": {},
   "outputs": [],
   "source": [
    "x_min = np.min(X[:,0]) - 1\n",
    "x_max = np.max(X[:,0]) + 1\n",
    "\n",
    "y_min = np.min(X[:,1]) - 1\n",
    "y_max = np.max(X[:,1]) + 1\n",
    "\n",
    "h = 0.5\n"
   ]
  },
  {
   "cell_type": "code",
   "execution_count": 24,
   "metadata": {},
   "outputs": [],
   "source": [
    "x_ok, y_ok = np.meshgrid(np.arange(x_min, x_max, h),\n",
    "                         np.arange(y_min, y_max, h))\n"
   ]
  },
  {
   "cell_type": "code",
   "execution_count": 25,
   "metadata": {},
   "outputs": [],
   "source": [
    "Y_pred = model.predict(np.transpose(np.array([x_ok.ravel(), y_ok.ravel()])))\n"
   ]
  },
  {
   "cell_type": "code",
   "execution_count": 26,
   "metadata": {},
   "outputs": [
    {
     "data": {
      "image/png": "[encoded data removed]",
      "text/plain": [
       "<Figure size 720x504 with 1 Axes>"
      ]
     },
     "metadata": {
      "needs_background": "light"
     },
     "output_type": "display_data"
    }
   ],
   "source": [
    "plt.figure()\n",
    "plt.title('set 0')\n",
    "plt.contourf(x_ok, y_ok, Y_pred[:,0].reshape(x_ok.shape), cmap='RdYlBu', alpha=0.5)\n",
    "plt.scatter(X[Y[:,0]][:,0], X[Y[:,0]][:,1], label='set 0')\n",
    "plt.scatter(X[Y[:,1]][:,0], X[Y[:,1]][:,1], label='set 1')\n",
    "plt.legend()\n",
    "plt.show()\n"
   ]
  },
  {
   "cell_type": "code",
   "execution_count": null,
   "metadata": {},
   "outputs": [],
   "source": []
  },
  {
   "cell_type": "code",
   "execution_count": null,
   "metadata": {},
   "outputs": [],
   "source": []
  },
  {
   "cell_type": "code",
   "execution_count": null,
   "metadata": {},
   "outputs": [],
   "source": []
  }
 ],
 "metadata": {
  "kernelspec": {
   "display_name": "Python 3",
   "language": "python",
   "name": "python3"
  },
  "language_info": {
   "codemirror_mode": {
    "name": "ipython",
    "version": 3
   },
   "file_extension": ".py",
   "mimetype": "text/x-python",
   "name": "python",
   "nbconvert_exporter": "python",
   "pygments_lexer": "ipython3",
   "version": "3.5.2"
  }
 },
 "nbformat": 4,
 "nbformat_minor": 2
}
