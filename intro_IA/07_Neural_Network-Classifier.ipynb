{
 "cells": [
  {
   "cell_type": "code",
   "execution_count": 2,
   "metadata": {},
   "outputs": [],
   "source": [
    "import numpy as np\n",
    "\n",
    "import random\n",
    "\n",
    "from sklearn.model_selection import train_test_split\n",
    "\n",
    "from keras.models import Sequential\n",
    "from keras.layers.core import Dense, Dropout, Activation\n",
    "from keras.optimizers import SGD\n",
    "\n",
    "import matplotlib\n",
    "import matplotlib.pyplot as plt\n",
    "matplotlib.rcParams['figure.figsize'] = (10.0, 7.0)\n"
   ]
  },
  {
   "cell_type": "markdown",
   "metadata": {},
   "source": [
    "# Classifier"
   ]
  },
  {
   "cell_type": "markdown",
   "metadata": {},
   "source": [
    "## Dataset"
   ]
  },
  {
   "cell_type": "code",
   "execution_count": 13,
   "metadata": {},
   "outputs": [],
   "source": [
    "random.seed(331)\n",
    "\n",
    "mean_0 = [0, 0]\n",
    "cov_0 = [[1, 0], [0, 100]]\n",
    "nb_0 = 200\n",
    "x_0, y_0 = np.random.multivariate_normal(mean_0, cov_0, nb_0).T\n",
    "\n",
    "mean_1 = [4, 3]\n",
    "cov_1 = [[4, 12], [12, 50]]\n",
    "nb_1 = 100\n",
    "x_1, y_1 = np.random.multivariate_normal(mean_1, cov_1, nb_1).T\n"
   ]
  },
  {
   "cell_type": "code",
   "execution_count": 14,
   "metadata": {},
   "outputs": [],
   "source": [
    "x_2 = list(x_0) + list(x_1)\n",
    "y_2 = list(y_0) + list(y_1)\n",
    "z_2 = [random.uniform(0, 100) for v in range(nb_0+nb_1)]\n",
    "\n",
    "X = np.transpose(np.array([x_2, y_2, z_2]))\n",
    "y = np.array([True for i in range(nb_0)] + [False for i in range(nb_1)])\n",
    "Y = np.transpose(np.array([y, ~y]))\n"
   ]
  },
  {
   "cell_type": "code",
   "execution_count": 15,
   "metadata": {},
   "outputs": [
    {
     "data": {
      "text/plain": [
       "((300, 3), (300, 2))"
      ]
     },
     "execution_count": 15,
     "metadata": {},
     "output_type": "execute_result"
    }
   ],
   "source": [
    "X.shape, Y.shape"
   ]
  },
  {
   "cell_type": "code",
   "execution_count": 16,
   "metadata": {},
   "outputs": [
    {
     "data": {
      "text/plain": [
       "((201, 3), (99, 3), (201, 2), (99, 2))"
      ]
     },
     "execution_count": 16,
     "metadata": {},
     "output_type": "execute_result"
    }
   ],
   "source": [
    "X_train, X_test, Y_train, Y_test = train_test_split(X, Y, test_size=0.33)\n",
    "X_train.shape, X_test.shape, Y_train.shape, Y_test.shape\n"
   ]
  },
  {
   "cell_type": "code",
   "execution_count": 17,
   "metadata": {},
   "outputs": [
    {
     "data": {
      "image/png": "[encoded data removed]",
      "text/plain": [
       "<Figure size 720x504 with 1 Axes>"
      ]
     },
     "metadata": {
      "needs_background": "light"
     },
     "output_type": "display_data"
    }
   ],
   "source": [
    "plt.figure()\n",
    "plt.title('set 0')\n",
    "plt.plot(X[Y[:,0]][:,0], X[Y[:,0]][:,1], 'x', label='set 0')\n",
    "plt.plot(X[Y[:,1]][:,0], X[Y[:,1]][:,1], 'x', label='set 1')\n",
    "plt.legend()\n",
    "plt.show()\n"
   ]
  },
  {
   "cell_type": "markdown",
   "metadata": {},
   "source": [
    "## Model definition"
   ]
  },
  {
   "cell_type": "code",
   "execution_count": 54,
   "metadata": {},
   "outputs": [],
   "source": [
    "model = Sequential()\n",
    "model.add(Dense(8, input_dim=3, kernel_initializer='normal', activation='relu'))\n",
    "model.add(Dense(2, kernel_initializer='normal', activation='sigmoid'))\n",
    "\n",
    "model.compile(optimizer='rmsprop',\n",
    "              loss='binary_crossentropy',\n",
    "              metrics=['accuracy'])"
   ]
  },
  {
   "cell_type": "markdown",
   "metadata": {},
   "source": [
    "## Model fit"
   ]
  },
  {
   "cell_type": "code",
   "execution_count": 55,
   "metadata": {
    "scrolled": true
   },
   "outputs": [
    {
     "name": "stdout",
     "output_type": "stream",
     "text": [
      "Epoch 1/100\n",
      "201/201 [==============================] - 0s 2ms/step - loss: 0.7461 - acc: 0.3682\n",
      "Epoch 2/100\n",
      "201/201 [==============================] - 0s 97us/step - loss: 0.6855 - acc: 0.5423\n",
      "Epoch 3/100\n",
      "201/201 [==============================] - 0s 253us/step - loss: 0.6570 - acc: 0.6617\n",
      "Epoch 4/100\n",
      "201/201 [==============================] - 0s 227us/step - loss: 0.6395 - acc: 0.6617\n",
      "Epoch 5/100\n",
      "201/201 [==============================] - 0s 215us/step - loss: 0.6273 - acc: 0.6617\n",
      "Epoch 6/100\n",
      "201/201 [==============================] - 0s 250us/step - loss: 0.6195 - acc: 0.6667\n",
      "Epoch 7/100\n",
      "201/201 [==============================] - 0s 258us/step - loss: 0.6106 - acc: 0.6692\n",
      "Epoch 8/100\n",
      "201/201 [==============================] - 0s 374us/step - loss: 0.6020 - acc: 0.6965\n",
      "Epoch 9/100\n",
      "201/201 [==============================] - 0s 269us/step - loss: 0.5937 - acc: 0.7114\n",
      "Epoch 10/100\n",
      "201/201 [==============================] - 0s 247us/step - loss: 0.5835 - acc: 0.7289\n",
      "Epoch 11/100\n",
      "201/201 [==============================] - 0s 447us/step - loss: 0.5736 - acc: 0.7413\n",
      "Epoch 12/100\n",
      "201/201 [==============================] - 0s 242us/step - loss: 0.5634 - acc: 0.7587\n",
      "Epoch 13/100\n",
      "201/201 [==============================] - 0s 226us/step - loss: 0.5523 - acc: 0.7662\n",
      "Epoch 14/100\n",
      "201/201 [==============================] - 0s 148us/step - loss: 0.5410 - acc: 0.7761\n",
      "Epoch 15/100\n",
      "201/201 [==============================] - 0s 176us/step - loss: 0.5279 - acc: 0.7960\n",
      "Epoch 16/100\n",
      "201/201 [==============================] - 0s 158us/step - loss: 0.5158 - acc: 0.8060\n",
      "Epoch 17/100\n",
      "201/201 [==============================] - 0s 314us/step - loss: 0.5037 - acc: 0.8159\n",
      "Epoch 18/100\n",
      "201/201 [==============================] - 0s 190us/step - loss: 0.4896 - acc: 0.8234\n",
      "Epoch 19/100\n",
      "201/201 [==============================] - 0s 176us/step - loss: 0.4756 - acc: 0.8408\n",
      "Epoch 20/100\n",
      "201/201 [==============================] - 0s 147us/step - loss: 0.4614 - acc: 0.8532\n",
      "Epoch 21/100\n",
      "201/201 [==============================] - 0s 204us/step - loss: 0.4445 - acc: 0.8856\n",
      "Epoch 22/100\n",
      "201/201 [==============================] - 0s 183us/step - loss: 0.4369 - acc: 0.8607\n",
      "Epoch 23/100\n",
      "201/201 [==============================] - 0s 190us/step - loss: 0.4188 - acc: 0.8706\n",
      "Epoch 24/100\n",
      "201/201 [==============================] - 0s 255us/step - loss: 0.4040 - acc: 0.9055\n",
      "Epoch 25/100\n",
      "201/201 [==============================] - 0s 241us/step - loss: 0.3927 - acc: 0.8955\n",
      "Epoch 26/100\n",
      "201/201 [==============================] - 0s 182us/step - loss: 0.3755 - acc: 0.8980\n",
      "Epoch 27/100\n",
      "201/201 [==============================] - 0s 176us/step - loss: 0.3645 - acc: 0.9179\n",
      "Epoch 28/100\n",
      "201/201 [==============================] - 0s 159us/step - loss: 0.3486 - acc: 0.9080\n",
      "Epoch 29/100\n",
      "201/201 [==============================] - 0s 224us/step - loss: 0.3334 - acc: 0.9229\n",
      "Epoch 30/100\n",
      "201/201 [==============================] - 0s 164us/step - loss: 0.3191 - acc: 0.9303\n",
      "Epoch 31/100\n",
      "201/201 [==============================] - 0s 202us/step - loss: 0.3053 - acc: 0.9104\n",
      "Epoch 32/100\n",
      "201/201 [==============================] - 0s 176us/step - loss: 0.2919 - acc: 0.9353\n",
      "Epoch 33/100\n",
      "201/201 [==============================] - 0s 212us/step - loss: 0.2783 - acc: 0.9527\n",
      "Epoch 34/100\n",
      "201/201 [==============================] - 0s 167us/step - loss: 0.2686 - acc: 0.9428\n",
      "Epoch 35/100\n",
      "201/201 [==============================] - 0s 156us/step - loss: 0.2576 - acc: 0.9453\n",
      "Epoch 36/100\n",
      "201/201 [==============================] - 0s 244us/step - loss: 0.2451 - acc: 0.9478\n",
      "Epoch 37/100\n",
      "201/201 [==============================] - 0s 204us/step - loss: 0.2383 - acc: 0.9602\n",
      "Epoch 38/100\n",
      "201/201 [==============================] - 0s 173us/step - loss: 0.2275 - acc: 0.9552\n",
      "Epoch 39/100\n",
      "201/201 [==============================] - 0s 143us/step - loss: 0.2199 - acc: 0.9602\n",
      "Epoch 40/100\n",
      "201/201 [==============================] - 0s 176us/step - loss: 0.2103 - acc: 0.9577\n",
      "Epoch 41/100\n",
      "201/201 [==============================] - 0s 203us/step - loss: 0.2025 - acc: 0.9577\n",
      "Epoch 42/100\n",
      "201/201 [==============================] - 0s 257us/step - loss: 0.1937 - acc: 0.9677\n",
      "Epoch 43/100\n",
      "201/201 [==============================] - 0s 205us/step - loss: 0.1902 - acc: 0.9652\n",
      "Epoch 44/100\n",
      "201/201 [==============================] - 0s 218us/step - loss: 0.1838 - acc: 0.9652\n",
      "Epoch 45/100\n",
      "201/201 [==============================] - 0s 173us/step - loss: 0.1785 - acc: 0.9577\n",
      "Epoch 46/100\n",
      "201/201 [==============================] - 0s 200us/step - loss: 0.1737 - acc: 0.9602\n",
      "Epoch 47/100\n",
      "201/201 [==============================] - 0s 156us/step - loss: 0.1691 - acc: 0.9677\n",
      "Epoch 48/100\n",
      "201/201 [==============================] - 0s 214us/step - loss: 0.1608 - acc: 0.9652\n",
      "Epoch 49/100\n",
      "201/201 [==============================] - 0s 171us/step - loss: 0.1618 - acc: 0.9652\n",
      "Epoch 50/100\n",
      "201/201 [==============================] - 0s 230us/step - loss: 0.1573 - acc: 0.9627\n",
      "Epoch 51/100\n",
      "201/201 [==============================] - 0s 137us/step - loss: 0.1532 - acc: 0.9602\n",
      "Epoch 52/100\n",
      "201/201 [==============================] - 0s 240us/step - loss: 0.1506 - acc: 0.9652\n",
      "Epoch 53/100\n",
      "201/201 [==============================] - 0s 199us/step - loss: 0.1471 - acc: 0.9552\n",
      "Epoch 54/100\n",
      "201/201 [==============================] - 0s 183us/step - loss: 0.1430 - acc: 0.9627\n",
      "Epoch 55/100\n",
      "201/201 [==============================] - 0s 207us/step - loss: 0.1414 - acc: 0.9652\n",
      "Epoch 56/100\n",
      "201/201 [==============================] - 0s 275us/step - loss: 0.1403 - acc: 0.9627\n",
      "Epoch 57/100\n",
      "201/201 [==============================] - 0s 223us/step - loss: 0.1357 - acc: 0.9577\n",
      "Epoch 58/100\n",
      "201/201 [==============================] - 0s 255us/step - loss: 0.1366 - acc: 0.9652\n",
      "Epoch 59/100\n",
      "201/201 [==============================] - 0s 178us/step - loss: 0.1336 - acc: 0.9602\n",
      "Epoch 60/100\n",
      "201/201 [==============================] - 0s 247us/step - loss: 0.1324 - acc: 0.9602\n",
      "Epoch 61/100\n",
      "201/201 [==============================] - 0s 148us/step - loss: 0.1289 - acc: 0.9602\n",
      "Epoch 62/100\n",
      "201/201 [==============================] - 0s 165us/step - loss: 0.1304 - acc: 0.9652\n",
      "Epoch 63/100\n",
      "201/201 [==============================] - 0s 137us/step - loss: 0.1278 - acc: 0.9677\n",
      "Epoch 64/100\n",
      "201/201 [==============================] - 0s 193us/step - loss: 0.1269 - acc: 0.9577\n",
      "Epoch 65/100\n",
      "201/201 [==============================] - 0s 232us/step - loss: 0.1243 - acc: 0.9652\n",
      "Epoch 66/100\n",
      "201/201 [==============================] - 0s 235us/step - loss: 0.1237 - acc: 0.9701\n",
      "Epoch 67/100\n",
      "201/201 [==============================] - 0s 208us/step - loss: 0.1228 - acc: 0.9677\n",
      "Epoch 68/100\n",
      "201/201 [==============================] - 0s 212us/step - loss: 0.1210 - acc: 0.9652\n",
      "Epoch 69/100\n",
      "201/201 [==============================] - 0s 137us/step - loss: 0.1207 - acc: 0.9652\n",
      "Epoch 70/100\n",
      "201/201 [==============================] - 0s 177us/step - loss: 0.1190 - acc: 0.9627\n",
      "Epoch 71/100\n",
      "201/201 [==============================] - 0s 236us/step - loss: 0.1190 - acc: 0.9602\n",
      "Epoch 72/100\n",
      "201/201 [==============================] - 0s 211us/step - loss: 0.1165 - acc: 0.9627\n",
      "Epoch 73/100\n",
      "201/201 [==============================] - 0s 227us/step - loss: 0.1160 - acc: 0.9677\n",
      "Epoch 74/100\n",
      "201/201 [==============================] - 0s 218us/step - loss: 0.1140 - acc: 0.9701\n",
      "Epoch 75/100\n",
      "201/201 [==============================] - 0s 107us/step - loss: 0.1146 - acc: 0.9701\n",
      "Epoch 76/100\n",
      "201/201 [==============================] - 0s 146us/step - loss: 0.1139 - acc: 0.9652\n",
      "Epoch 77/100\n",
      "201/201 [==============================] - 0s 125us/step - loss: 0.1105 - acc: 0.9677\n",
      "Epoch 78/100\n",
      "201/201 [==============================] - 0s 159us/step - loss: 0.1106 - acc: 0.9751\n",
      "Epoch 79/100\n",
      "201/201 [==============================] - 0s 163us/step - loss: 0.1108 - acc: 0.9701\n",
      "Epoch 80/100\n",
      "201/201 [==============================] - 0s 135us/step - loss: 0.1097 - acc: 0.9701\n",
      "Epoch 81/100\n",
      "201/201 [==============================] - 0s 140us/step - loss: 0.1097 - acc: 0.9652\n",
      "Epoch 82/100\n",
      "201/201 [==============================] - 0s 131us/step - loss: 0.1091 - acc: 0.9701\n",
      "Epoch 83/100\n"
     ]
    },
    {
     "name": "stdout",
     "output_type": "stream",
     "text": [
      "201/201 [==============================] - 0s 166us/step - loss: 0.1074 - acc: 0.9652\n",
      "Epoch 84/100\n",
      "201/201 [==============================] - 0s 170us/step - loss: 0.1057 - acc: 0.9751\n",
      "Epoch 85/100\n",
      "201/201 [==============================] - 0s 213us/step - loss: 0.1078 - acc: 0.9701\n",
      "Epoch 86/100\n",
      "201/201 [==============================] - 0s 366us/step - loss: 0.1063 - acc: 0.9602\n",
      "Epoch 87/100\n",
      "201/201 [==============================] - 0s 221us/step - loss: 0.1062 - acc: 0.9627\n",
      "Epoch 88/100\n",
      "201/201 [==============================] - 0s 257us/step - loss: 0.1054 - acc: 0.9652\n",
      "Epoch 89/100\n",
      "201/201 [==============================] - 0s 217us/step - loss: 0.1055 - acc: 0.9701\n",
      "Epoch 90/100\n",
      "201/201 [==============================] - 0s 212us/step - loss: 0.1045 - acc: 0.9627\n",
      "Epoch 91/100\n",
      "201/201 [==============================] - 0s 146us/step - loss: 0.1005 - acc: 0.9701\n",
      "Epoch 92/100\n",
      "201/201 [==============================] - 0s 216us/step - loss: 0.1032 - acc: 0.9652\n",
      "Epoch 93/100\n",
      "201/201 [==============================] - 0s 159us/step - loss: 0.1058 - acc: 0.9701\n",
      "Epoch 94/100\n",
      "201/201 [==============================] - 0s 184us/step - loss: 0.1032 - acc: 0.9652\n",
      "Epoch 95/100\n",
      "201/201 [==============================] - 0s 126us/step - loss: 0.1030 - acc: 0.9652\n",
      "Epoch 96/100\n",
      "201/201 [==============================] - 0s 196us/step - loss: 0.1026 - acc: 0.9726\n",
      "Epoch 97/100\n",
      "201/201 [==============================] - 0s 127us/step - loss: 0.0983 - acc: 0.9726\n",
      "Epoch 98/100\n",
      "201/201 [==============================] - 0s 181us/step - loss: 0.1041 - acc: 0.9701\n",
      "Epoch 99/100\n",
      "201/201 [==============================] - 0s 127us/step - loss: 0.1016 - acc: 0.9677\n",
      "Epoch 100/100\n",
      "201/201 [==============================] - 0s 135us/step - loss: 0.1004 - acc: 0.9652\n"
     ]
    },
    {
     "data": {
      "text/plain": [
       "<keras.callbacks.History at 0x7fbb505aa940>"
      ]
     },
     "execution_count": 55,
     "metadata": {},
     "output_type": "execute_result"
    }
   ],
   "source": [
    "model.fit(X_train, Y_train, batch_size=12, epochs=100)\n"
   ]
  },
  {
   "cell_type": "code",
   "execution_count": 56,
   "metadata": {},
   "outputs": [
    {
     "name": "stdout",
     "output_type": "stream",
     "text": [
      "_________________________________________________________________\n",
      "Layer (type)                 Output Shape              Param #   \n",
      "=================================================================\n",
      "dense_9 (Dense)              (None, 8)                 32        \n",
      "_________________________________________________________________\n",
      "dense_10 (Dense)             (None, 2)                 18        \n",
      "=================================================================\n",
      "Total params: 50\n",
      "Trainable params: 50\n",
      "Non-trainable params: 0\n",
      "_________________________________________________________________\n"
     ]
    }
   ],
   "source": [
    "model.summary()"
   ]
  },
  {
   "cell_type": "code",
   "execution_count": 57,
   "metadata": {},
   "outputs": [
    {
     "name": "stdout",
     "output_type": "stream",
     "text": [
      "201/201 [==============================] - 0s 800us/step\n",
      "Train:  [0.09694897841235892, 0.972636815920398]\n",
      "99/99 [==============================] - 0s 89us/step\n",
      "Test:  [0.19145159208864876, 0.9292929292929293]\n"
     ]
    }
   ],
   "source": [
    "print('Train: ', model.evaluate(X_train, Y_train))\n",
    "print('Test: ', model.evaluate(X_test, Y_test))\n"
   ]
  },
  {
   "cell_type": "markdown",
   "metadata": {},
   "source": [
    "## Predictions"
   ]
  },
  {
   "cell_type": "code",
   "execution_count": 58,
   "metadata": {},
   "outputs": [],
   "source": [
    "x_min = np.min(X[:,0]) - 0.5\n",
    "x_max = np.max(X[:,0]) + 0.5\n",
    "\n",
    "y_min = np.min(X[:,1]) - 5\n",
    "y_max = np.max(X[:,1]) + 5\n",
    "\n",
    "h = 0.5\n"
   ]
  },
  {
   "cell_type": "code",
   "execution_count": 59,
   "metadata": {},
   "outputs": [],
   "source": [
    "xx, yy, zz = np.meshgrid(np.arange(x_min, x_max, h),\n",
    "                         np.arange(y_min, y_max, h),\n",
    "                         [np.mean(X[:,2])])\n",
    "\n",
    "x_ok, y_ok = np.meshgrid(np.arange(x_min, x_max, h),\n",
    "                         np.arange(y_min, y_max, h))\n"
   ]
  },
  {
   "cell_type": "code",
   "execution_count": 60,
   "metadata": {},
   "outputs": [],
   "source": [
    "Y_pred = model.predict(np.transpose(np.array([xx.ravel(), yy.ravel(), zz.ravel()])))\n",
    "#Y_pred = Y_pred[:,0].reshape(x_ok.shape)\n"
   ]
  },
  {
   "cell_type": "code",
   "execution_count": 61,
   "metadata": {},
   "outputs": [
    {
     "data": {
      "image/png": "[encoded data removed]",
      "text/plain": [
       "<Figure size 720x504 with 1 Axes>"
      ]
     },
     "metadata": {
      "needs_background": "light"
     },
     "output_type": "display_data"
    }
   ],
   "source": [
    "plt.figure()\n",
    "plt.title('set 0')\n",
    "plt.contourf(x_ok, y_ok, Y_pred[:,0].reshape(x_ok.shape), cmap='RdYlBu', alpha=0.5)\n",
    "plt.scatter(X[Y[:,0]][:,0], X[Y[:,0]][:,1], label='set 0')\n",
    "plt.scatter(X[Y[:,1]][:,0], X[Y[:,1]][:,1], label='set 1')\n",
    "plt.legend()\n",
    "plt.show()\n"
   ]
  },
  {
   "cell_type": "code",
   "execution_count": null,
   "metadata": {},
   "outputs": [],
   "source": []
  },
  {
   "cell_type": "code",
   "execution_count": null,
   "metadata": {},
   "outputs": [],
   "source": []
  },
  {
   "cell_type": "code",
   "execution_count": null,
   "metadata": {},
   "outputs": [],
   "source": []
  },
  {
   "cell_type": "code",
   "execution_count": null,
   "metadata": {},
   "outputs": [],
   "source": []
  }
 ],
 "metadata": {
  "kernelspec": {
   "display_name": "Python 3",
   "language": "python",
   "name": "python3"
  },
  "language_info": {
   "codemirror_mode": {
    "name": "ipython",
    "version": 3
   },
   "file_extension": ".py",
   "mimetype": "text/x-python",
   "name": "python",
   "nbconvert_exporter": "python",
   "pygments_lexer": "ipython3",
   "version": "3.5.2"
  }
 },
 "nbformat": 4,
 "nbformat_minor": 2
}
