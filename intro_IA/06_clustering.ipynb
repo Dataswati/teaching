{
 "cells": [
  {
   "cell_type": "code",
   "execution_count": null,
   "metadata": {},
   "outputs": [],
   "source": [
    "import numpy as np\n",
    "\n",
    "import random\n",
    "\n",
    "import matplotlib.pyplot as plt\n",
    "\n",
    "from sklearn.cluster import KMeans, SpectralClustering, AgglomerativeClustering\n"
   ]
  },
  {
   "cell_type": "markdown",
   "metadata": {},
   "source": [
    "# Dataset"
   ]
  },
  {
   "cell_type": "code",
   "execution_count": null,
   "metadata": {},
   "outputs": [],
   "source": [
    "random.seed(331)\n",
    "\n",
    "mean_0 = [0, 0]\n",
    "cov_0 = [[1, 0], [0, 100]]\n",
    "nb_0 = 2000\n",
    "x_0, y_0 = np.random.multivariate_normal(mean_0, cov_0, nb_0).T\n",
    "\n",
    "mean_1 = [10, 50]\n",
    "cov_1 = [[2, 2], [2, 50]]\n",
    "nb_1 = 1000\n",
    "x_1, y_1 = np.random.multivariate_normal(mean_1, cov_1, nb_1).T\n"
   ]
  },
  {
   "cell_type": "code",
   "execution_count": null,
   "metadata": {},
   "outputs": [],
   "source": [
    "x_2 = list(x_0) + list(x_1)\n",
    "y_2 = list(y_0) + list(y_1)\n",
    "#z_2 = [random.uniform(0, 100) for v in range(nb_0+nb_1)]\n",
    "\n",
    "#X = np.transpose(np.array([x_2, y_2, z_2]))\n",
    "X = np.transpose(np.array([x_2, y_2]))\n"
   ]
  },
  {
   "cell_type": "code",
   "execution_count": null,
   "metadata": {},
   "outputs": [],
   "source": [
    "X.shape"
   ]
  },
  {
   "cell_type": "code",
   "execution_count": null,
   "metadata": {},
   "outputs": [],
   "source": [
    "plt.figure()\n",
    "plt.plot(X[:,0], X[:,1], 'x')\n",
    "plt.show()\n"
   ]
  },
  {
   "cell_type": "markdown",
   "metadata": {},
   "source": [
    "# Kmeans"
   ]
  },
  {
   "cell_type": "code",
   "execution_count": null,
   "metadata": {},
   "outputs": [],
   "source": [
    "kmeans = "
   ]
  },
  {
   "cell_type": "code",
   "execution_count": null,
   "metadata": {},
   "outputs": [],
   "source": [
    "plt.figure()\n",
    "plt.plot(X[y_pred==1][:,0], X[y_pred==1][:,1], 'x', label='set 1')\n",
    "plt.plot(X[y_pred==0][:,0], X[y_pred==0][:,1], 'x', label='set 0')\n",
    "plt.show()\n"
   ]
  },
  {
   "cell_type": "code",
   "execution_count": null,
   "metadata": {},
   "outputs": [],
   "source": []
  },
  {
   "cell_type": "code",
   "execution_count": null,
   "metadata": {},
   "outputs": [],
   "source": []
  },
  {
   "cell_type": "code",
   "execution_count": null,
   "metadata": {},
   "outputs": [],
   "source": []
  }
 ],
 "metadata": {
  "kernelspec": {
   "display_name": "Python 3",
   "language": "python",
   "name": "python3"
  },
  "language_info": {
   "codemirror_mode": {
    "name": "ipython",
    "version": 3
   },
   "file_extension": ".py",
   "mimetype": "text/x-python",
   "name": "python",
   "nbconvert_exporter": "python",
   "pygments_lexer": "ipython3",
   "version": "3.5.2"
  }
 },
 "nbformat": 4,
 "nbformat_minor": 2
}
